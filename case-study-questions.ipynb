{
 "cells": [
  {
   "cell_type": "markdown",
   "metadata": {},
   "source": [
    "# Introduction\n",
    "\n",
    "Stuart is the leading on-demand solution powering the way goods are transported in a\n",
    "customised way. We connect businesses across all industries and of all sizes to high quality\n",
    "independent couriers to offer customised delivery solutions.\n",
    "\n",
    "As a data analyst at Stuart your role is to abstract the complexity of the business and the\n",
    "underlying data to provide meaningful insights to decision makers. To assess your suitability\n",
    "to the role, we’re providing you with a realistic data set and questions similar to what you\n",
    "may encounter in the day to day work at Stuart\n"
   ]
  },
  {
   "cell_type": "markdown",
   "metadata": {},
   "source": [
    "# Data\n",
    "The data set attached consists of records of the principal business events generated from\n",
    "the moment a package appears in our system until it is delivered to its final destination.\n",
    "\n",
    "There are 22 tables in the data set recording events around 5 principle objects in Stuart’s\n",
    "universe, those are: packages, deliveries, tasks, drivers and invitations.\n",
    "\n",
    "- Packages are the physical articles that need to be delivered and can very in size,\n",
    "type and urgency\n",
    "- Deliveries represent the job a driver needs to perform to deliver one or more\n",
    "packages\n",
    "- Tasks are the different segments of a delivery. For example: a simple delivery\n",
    "consists of two tasks: a pickup task and a drop off task\n",
    "- Drivers are the persons performing the deliveries and can do so using different\n",
    "transport types\n",
    "- Invitations are the outcome of our dispatching algorithms to connect free Drivers to\n",
    "Deliveries\n",
    "\n",
    "The data is provided in an SQLite format and can be queried using any of the free sqlite\n",
    "clients such as DB Browser or TablePlus\n",
    "\n",
    "Please note that no data dictionary is provided and you’ll need to make sense of the data\n",
    "based on the table names and the above information.\n"
   ]
  },
  {
   "cell_type": "markdown",
   "metadata": {},
   "source": [
    "## Question 1\n",
    "What is the success rate of packages per Zone? (% of Packages delivered on time)"
   ]
  },
  {
   "cell_type": "code",
   "execution_count": null,
   "metadata": {},
   "outputs": [],
   "source": [
    "//SQL QUERY\n",
    "\n",
    "SELECT \n",
    "pd.zone_id,\n",
    "p.zone_name,\n",
    "ROUND((SUM(case when pd.created_at <= time_window_do_end then 1 else 0 end )*1.0 / count(p.created_at))*100,1)  as success_rate\n",
    "from package p\n",
    "inner join package_delivered pd \n",
    "on pd.package_id = p.package_id\n",
    "group by pd.zone_id\n",
    "order by success_rate desc"
   ]
  },
  {
   "cell_type": "markdown",
   "metadata": {},
   "source": [
    "## Question 2\n",
    "Is the driver invitation acceptance rate higher or lower among drivers who have been\n",
    "on the platform for longer?"
   ]
  },
  {
   "cell_type": "code",
   "execution_count": null,
   "metadata": {},
   "outputs": [],
   "source": [
    "//SQL QUERY \n",
    "\n",
    "SELECT\n",
    "ROUND(AVG(a.rate_accepted),0) as avg_rate_accepted,\n",
    "a.years_worked \n",
    "\n",
    "from \n",
    "(select\n",
    "d.driver_id,\n",
    "count(ia.delivery_invitation_id) as total_invites_accept,\n",
    "count(ic.delivery_invitation_id),\n",
    "(count(ia.delivery_invitation_id)*1.0/count(ic.delivery_invitation_id))*100 as rate_accepted,\n",
    "--DATE('now'),\n",
    "--d.created_at,\n",
    "julianday('now') - julianday(d.created_at),\n",
    "(CASE WHEN (julianday('now') - julianday(d.created_at)) < 365 then '0-1 Year' \n",
    "WHEN (julianday('now') - julianday(d.created_at)) between 365 and 730 then '1-2 Years'\n",
    "WHEN (julianday('now') - julianday(d.created_at)) between 730 and 1095 then '2-3 Years'\n",
    "WHEN (julianday('now') - julianday(d.created_at)) between 1095 and 1460 then '3-4 Years'\n",
    "WHEN (julianday('now') - julianday(d.created_at)) between 1460 and 1825 then '4-5 Years'\n",
    "WHEN (julianday('now') - julianday(d.created_at)) between 1825 and 2190 then '5-6 Years'\n",
    "WHEN (julianday('now') - julianday(d.created_at)) between 2190 and 2555 then '6-7 Years'\n",
    "WHEN (julianday('now') - julianday(d.created_at)) > 2555 then '7+ Years'\n",
    "END)  as  years_worked\n",
    "from driver d\n",
    "inner join invitation_created ic \n",
    "on d.driver_id = ic.driver_id\n",
    "left join invitation_accepted ia \n",
    "on ic.delivery_invitation_id = ia.delivery_invitation_id\n",
    "group by d.driver_id\n",
    ") a\n",
    "group by a.years_worked\n",
    "order by a.years_worked asc"
   ]
  },
  {
   "cell_type": "markdown",
   "metadata": {},
   "source": [
    "test\n"
   ]
  }
 ],
 "metadata": {
  "language_info": {
   "name": "python"
  },
  "orig_nbformat": 4
 },
 "nbformat": 4,
 "nbformat_minor": 2
}
