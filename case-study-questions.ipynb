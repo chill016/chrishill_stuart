{
 "cells": [
  {
   "cell_type": "markdown",
   "metadata": {},
   "source": [
    "# Introduction\n",
    "\n",
    "Stuart is the leading on-demand solution powering the way goods are transported in a\n",
    "customised way. We connect businesses across all industries and of all sizes to high quality\n",
    "independent couriers to offer customised delivery solutions.\n",
    "\n",
    "As a data analyst at Stuart your role is to abstract the complexity of the business and the\n",
    "underlying data to provide meaningful insights to decision makers. To assess your suitability\n",
    "to the role, we’re providing you with a realistic data set and questions similar to what you\n",
    "may encounter in the day to day work at Stuart\n"
   ]
  },
  {
   "cell_type": "markdown",
   "metadata": {},
   "source": [
    "# Data\n",
    "The data set attached consists of records of the principal business events generated from\n",
    "the moment a package appears in our system until it is delivered to its final destination.\n",
    "\n",
    "There are 22 tables in the data set recording events around 5 principle objects in Stuart’s\n",
    "universe, those are: packages, deliveries, tasks, drivers and invitations.\n",
    "\n",
    "- Packages are the physical articles that need to be delivered and can very in size,\n",
    "type and urgency\n",
    "- Deliveries represent the job a driver needs to perform to deliver one or more\n",
    "packages\n",
    "- Tasks are the different segments of a delivery. For example: a simple delivery\n",
    "consists of two tasks: a pickup task and a drop off task\n",
    "- Drivers are the persons performing the deliveries and can do so using different\n",
    "transport types\n",
    "- Invitations are the outcome of our dispatching algorithms to connect free Drivers to\n",
    "Deliveries\n",
    "\n",
    "The data is provided in an SQLite format and can be queried using any of the free sqlite\n",
    "clients such as DB Browser or TablePlus\n",
    "\n",
    "Please note that no data dictionary is provided and you’ll need to make sense of the data\n",
    "based on the table names and the above information.\n"
   ]
  },
  {
   "cell_type": "markdown",
   "metadata": {},
   "source": [
    "## Question 1\n",
    "What is the success rate of packages per Zone? (% of Packages delivered on time)"
   ]
  },
  {
   "cell_type": "markdown",
   "metadata": {},
   "source": [
    "### Solution 1\n",
    "\n",
    "The query below highlights the success rate across the zones with Manchester being top and the lowest being Paris. "
   ]
  },
  {
   "cell_type": "code",
   "execution_count": null,
   "metadata": {},
   "outputs": [],
   "source": [
    "/**SQL QUERY**/\n",
    "SELECT pd.zone_id,\n",
    "       p.zone_name,\n",
    "       Count(p.created_at) as count,\n",
    "       Round(( Sum(CASE\n",
    "                     WHEN pd.created_at <= time_window_do_end THEN 1\n",
    "                     ELSE 0\n",
    "                   end) * 1.0 / Count(p.created_at) ) * 100, 1) AS success_rate\n",
    "FROM   package p\n",
    "       INNER JOIN package_delivered pd\n",
    "               ON pd.package_id = p.package_id\n",
    "     where pd.zone_id is not 79 -- removed as 1 package is delivered and skews the results (shows 100% success rate)\n",
    "GROUP  BY pd.zone_id\n",
    "ORDER  BY success_rate DESC "
   ]
  },
  {
   "cell_type": "markdown",
   "metadata": {},
   "source": [
    "## Question 2\n",
    "Is the driver invitation acceptance rate higher or lower among drivers who have been\n",
    "on the platform for longer?"
   ]
  },
  {
   "cell_type": "markdown",
   "metadata": {},
   "source": [
    "### Solution 2\n",
    "\n",
    "Running the query below, the general trend is the longer users have been on the platform, the higher the acceptence rate is."
   ]
  },
  {
   "cell_type": "code",
   "execution_count": null,
   "metadata": {},
   "outputs": [],
   "source": [
    "/**SQL QUERY **/\n",
    "SELECT Round(Avg(a.rate_accepted), 0) AS avg_rate_accepted,\n",
    "       a.years_worked\n",
    "FROM   (SELECT\n",
    "d.driver_id,\n",
    "Count(ia.delivery_invitation_id)\n",
    "       AS total_invites_accept,\n",
    "Count(ic.delivery_invitation_id),\n",
    "(\n",
    "Count(ia.delivery_invitation_id) * 1.0 / Count(ic.delivery_invitation_id) ) * 100 AS rate_accepted,\n",
    "        --DATE('now'),\n",
    "        --d.created_at,\n",
    "        Julianday('now') - Julianday(d.created_at),\n",
    "        ( CASE\n",
    "            WHEN ( Julianday('now') - Julianday(d.created_at) ) < 365\n",
    "          THEN\n",
    "            '0-1 Year'\n",
    "            WHEN ( Julianday('now') - Julianday(d.created_at) ) BETWEEN\n",
    "                 365 AND\n",
    "                 730 THEN\n",
    "            '1-2 Years'\n",
    "            WHEN ( Julianday('now') - Julianday(d.created_at) ) BETWEEN\n",
    "                 730 AND\n",
    "                 1095\n",
    "          THEN\n",
    "            '2-3 Years'\n",
    "            WHEN ( Julianday('now') - Julianday(d.created_at) ) BETWEEN\n",
    "                 1095 AND\n",
    "                 1460\n",
    "          THEN\n",
    "            '3-4 Years'\n",
    "            WHEN ( Julianday('now') - Julianday(d.created_at) ) BETWEEN\n",
    "                 1460 AND\n",
    "                 1825\n",
    "          THEN\n",
    "            '4-5 Years'\n",
    "            WHEN ( Julianday('now') - Julianday(d.created_at) ) BETWEEN\n",
    "                 1825 AND\n",
    "                 2190\n",
    "          THEN\n",
    "            '5-6 Years'\n",
    "            WHEN ( Julianday('now') - Julianday(d.created_at) ) BETWEEN\n",
    "                 2190 AND\n",
    "                 2555\n",
    "          THEN\n",
    "            '6-7 Years'\n",
    "            WHEN ( Julianday('now') - Julianday(d.created_at) ) > 2555\n",
    "          THEN\n",
    "            '7+ Years'\n",
    "          end )\n",
    "               AS years_worked\n",
    " FROM   driver d\n",
    "        INNER JOIN invitation_created ic\n",
    "                ON d.driver_id = ic.driver_id\n",
    "        LEFT JOIN invitation_accepted ia\n",
    "               ON ic.delivery_invitation_id = ia.delivery_invitation_id\n",
    " GROUP  BY d.driver_id) a\n",
    "GROUP  BY a.years_worked\n",
    "ORDER  BY a.years_worked ASC "
   ]
  },
  {
   "cell_type": "markdown",
   "metadata": {},
   "source": [
    "## Question 3\n",
    "\n",
    "What might be other relevant metrics to track? (Propose 2 metrics at least, and explain how they can be computed from the provided data)."
   ]
  },
  {
   "cell_type": "markdown",
   "metadata": {},
   "source": [
    "### Solution 3\n",
    "\n",
    "#### Metric 1: \n",
    "This allows business users to see how many people are currently only as a % on the given day. In the query below I have used as an example date to showcase  the results but effectively the metric will use Date('Now') and users would refresh to see the current status of the day. \n"
   ]
  },
  {
   "cell_type": "code",
   "execution_count": null,
   "metadata": {},
   "outputs": [],
   "source": [
    "/**SQL QUERY**/\n",
    "\n",
    "SELECT round((sum(off_on)*1.0/count(driver_id))*100,0)\n",
    "              || '%' AS percent_online_now\n",
    "FROM   (\n",
    "                       SELECT DISTINCT driver_id ,\n",
    "                                       created_at,\n",
    "                                       1 AS off_on\n",
    "                       FROM            driver_online\n",
    "                       UNION\n",
    "                       SELECT DISTINCT driver_id,\n",
    "                                       created_at,\n",
    "                                       0 AS off_on\n",
    "                       FROM            driver_offline ) a\n",
    "WHERE  created_at BETWEEN datetime('now','start of day') AND datetime('now','LOCALTIME')"
   ]
  },
  {
   "cell_type": "markdown",
   "metadata": {},
   "source": [
    "### Solution 3\n",
    "\n",
    "#### Metric 2: \n",
    "Average Delivery Time \n",
    "\n",
    "This reflects the current average delivery time in minutes across all the zones\n"
   ]
  },
  {
   "cell_type": "code",
   "execution_count": null,
   "metadata": {},
   "outputs": [],
   "source": [
    "select\n",
    "ROUND(AVG((JULIANDAY(ts.created_at) - JULIANDAY(t.created_at))*3600),0) as Average_Delivery_Time_Minutes\n",
    "from task t \n",
    "inner join task_succeeded ts \n",
    "on t.task_id = ts.task_id\n",
    "where type = 'DropoffTask'"
   ]
  },
  {
   "cell_type": "markdown",
   "metadata": {},
   "source": [
    "## Question 4\n",
    "\n",
    "As a BI Analyst you are asked to create a new table in the DWH optimized for\n",
    "Tableau consumption in order to build a dashboard to track driver performances. The\n",
    "current event level data is too granular and unwieldy.\n",
    "1.  Propose a new flat table schema to consolidate the relevant events,\n",
    "2.  Write the necessary SQL to build that table,\n",
    "3.  Explain the methodology you used."
   ]
  },
  {
   "cell_type": "markdown",
   "metadata": {},
   "source": [
    "### Solution 4.1\n",
    "\n",
    "Please see attached in the assets folder the diagram required for the question"
   ]
  },
  {
   "cell_type": "markdown",
   "metadata": {},
   "source": [
    "### Solution 4.2\n",
    "\n",
    "A CTE Statement was applied below to optimise the query while joining the core base tables together. "
   ]
  },
  {
   "cell_type": "code",
   "execution_count": null,
   "metadata": {},
   "outputs": [],
   "source": [
    "CREATE TABLE model_driver_performance AS\n",
    "             with cte_base            AS\n",
    "             (\n",
    "                        SELECT     distance,\n",
    "                                   delivery_created_id,\n",
    "                                   ad.driver_id,\n",
    "                                   ad.task_id,\n",
    "                                   package_id,\n",
    "                                   delivery_id, (\n",
    "                                   CASE\n",
    "                                              WHEN type = 'PICKUP' THEN 1\n",
    "                                              ELSE 0\n",
    "                                   end) AS num_pickup, (\n",
    "                                   CASE\n",
    "                                              WHEN type = 'DROPOFF' THEN 1\n",
    "                                              ELSE 0\n",
    "                                   end) AS num_dropoff\n",
    "                        FROM       assign_driver ad\n",
    "                        INNER JOIN delivery_created dc\n",
    "                        ON         ad.task_id = dc.task_id\n",
    "             )\n",
    "             ,\n",
    "             cte_final AS\n",
    "             (\n",
    "                        SELECT     cb.*, (\n",
    "                                   CASE\n",
    "                                              WHEN status = 'delivered' THEN 1\n",
    "                                              ELSE 0\n",
    "                                   end) AS delivered, (\n",
    "                                   CASE\n",
    "                                              WHEN status = 'not_delivered' THEN 1\n",
    "                                              ELSE 0\n",
    "                                   end) AS not_delivered\n",
    "                        FROM       cte_base cb\n",
    "                        INNER JOIN package p\n",
    "                        ON         cb.package_id = p.package_id\n",
    "             )\n",
    "  SELECT   driver_id,\n",
    "           task_id,\n",
    "           package_id,\n",
    "           sum(distance)      AS total_distance,\n",
    "           sum(delivered)     AS total_delivered,\n",
    "           sum(not_delivered) AS total_not_delivered,\n",
    "           (\n",
    "                  SELECT sum(delivered)\n",
    "                  FROM   cte_final) AS total_delivery_stuart,\n",
    "           sum(num_pickup)          AS total_pickup,\n",
    "           sum(num_dropoff)         AS total_dropoff\n",
    "  FROM     cte_final\n",
    "  GROUP BY driver_id"
   ]
  },
  {
   "cell_type": "markdown",
   "metadata": {},
   "source": [
    "### Solution 4.3"
   ]
  },
  {
   "cell_type": "markdown",
   "metadata": {},
   "source": [
    "I essentially wanted to create a fact table which contains the aggregated values of key measure which would highlight driver performance.  Thinking it through the flow of a driver from when they get assigned, accept the invite, and deliver (or not) the package. This drived the foreign keys used in the fact table where the corresponding primary keys would essentially be the Dimensions which would allow drilled down analysis in Tableau by the business users if required.  \n",
    "\n",
    "This was done by creating a transaction fact table using CTE statements.Another way is to create the fact table, similarly, assigning the foreign Keys also containing a Surrogate key, the measures which are calculated are loaded via the ETL process. Or alternately to create a view or materialized view. "
   ]
  },
  {
   "cell_type": "markdown",
   "metadata": {},
   "source": [
    "## Question 5\n",
    "\n",
    "The data provided is missing one critical component and that is weather data.\n",
    "Weather plays a critical role in the availability of drivers as well as on the success of\n",
    "deliveries. Using any of the free weather APIs available (e.g. DarkSky, Weatherbit,\n",
    "Accuweather,...etc.) collect weather data for the locations and dates of the provided\n",
    "deliveries, proposing a new table schema to store them and make them accessible to\n",
    "all analysts at Stuart"
   ]
  },
  {
   "cell_type": "markdown",
   "metadata": {},
   "source": [
    "### Solution\n",
    "\n",
    "For the given question there are three key elements that need to be done, some of which are demonstrated below.\n",
    "The process of extracting external data and making it available would consist of three key stages:\n",
    "\n",
    "1. Extract the data using the AccuWeatherMap APIs (Demonstrated below in the code block)\n",
    "    - Define the cities to extract the weather data for in a list\n",
    "    - Run the function to extract the data\n",
    "    - Store the data in a DataFrame\n",
    "    - Modify the DataFrame to add an extract timestamp and city\n",
    "    - Store the data in a flat file\n",
    "2. Load the data into a DB\n",
    "3. (Optional) Transform or refine the data"
   ]
  },
  {
   "cell_type": "code",
   "execution_count": null,
   "metadata": {},
   "outputs": [],
   "source": [
    "import requests\n",
    "import json\n",
    "import pandas as pd\n",
    "from datetime import datetime\n",
    "\n",
    "# Variables\n",
    "api_key = ''\n",
    "locations = {\n",
    "    'Paris': [48.856613, 2.352222],\n",
    "    'Barcelona': [41.3874, 2.1686],\n",
    "    'Brighton': [50.8225, 0.1372],\n",
    "    'Lyon': [45.7640, 4.8357],\n",
    "    'Madrid': [40.4168, 3.7038],\n",
    "    'Manchester': [53.4804, 2.2426],\n",
    "    }\n",
    "\n",
    "current_conditions = []\n",
    "\n",
    "\n",
    "# Functions\n",
    "def extract_weather(api_key, lat, lon):\n",
    "    \"\"\" Extract current weather data for a single location.\n",
    "            Args:\n",
    "                api_key: Your personal API key\n",
    "                lat: Lattitude\n",
    "                lon: Longitude\n",
    "            Returns:\n",
    "                Flattened JSON object\"\"\"\n",
    "\n",
    "    url = \\\n",
    "        'https://api.openweathermap.org/data/2.5/onecall?lat=%s&lon=%s&appid=%s&units=metric' \\\n",
    "        % (lat, lon, api_key)\n",
    "    response = requests.get(url)\n",
    "    data = json.loads(response.text)\n",
    "    return data['current']\n",
    "\n",
    "\n",
    "def extract_city_weather():\n",
    "    \"\"\" Creates a DataFrame and appends the current weather for cities defined in a list.\"\"\"\n",
    "    for key in locations:\n",
    "        temp = {'City': key, 'Date': datetime.timestamp(datetime.now())}\n",
    "        temp.update(extract_weather(api_key, locations[key][0],\n",
    "                    locations[key][1]))\n",
    "        current_conditions.append(temp)\n",
    "\n",
    "\n",
    "extract_city_weather()\n",
    "\n",
    "df = pd.DataFrame(current_conditions)\n",
    "print df\n",
    "\n",
    "# The query will be run daily, initially no historical data will be present, this would be built up over time.\n",
    "# Users can join through other tables through the City column via zone_name/zone_id\n"
   ]
  },
  {
   "cell_type": "markdown",
   "metadata": {},
   "source": [
    "## Question 6\n",
    "\n",
    "Please see the ppt deck within the assets folder. Speaker Notes have been provided at the bottom to present alongside the slides. "
   ]
  }
 ],
 "metadata": {
  "interpreter": {
   "hash": "767d51c1340bd893661ea55ea3124f6de3c7a262a8b4abca0554b478b1e2ff90"
  },
  "kernelspec": {
   "display_name": "Python 2.7.16 64-bit",
   "name": "python3"
  },
  "language_info": {
   "name": "python",
   "version": "2.7.16"
  },
  "orig_nbformat": 4
 },
 "nbformat": 4,
 "nbformat_minor": 2
}
